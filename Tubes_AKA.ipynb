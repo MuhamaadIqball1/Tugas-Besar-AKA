{
  "cells": [
    {
      "cell_type": "markdown",
      "metadata": {
        "id": "iATJhEUHlXlQ"
      },
      "source": [
        "**Perbandingan Efisiensi Iteratif dan Rekursif pada Sistem Perhitungan Bonus dan Tunjangan Karyawan**"
      ]
    },
    {
      "cell_type": "markdown",
      "metadata": {
        "id": "-I9dQi79nkNP"
      },
      "source": [
        "Nama Kelompok\n",
        "- Muhammad Iqbal (2311110013)\n",
        "- Ananda Rizky (2311110019)\n"
      ]
    },
    {
      "cell_type": "markdown",
      "metadata": {
        "id": "sfBegXr5n7w6"
      },
      "source": [
        "**Deskripsi Studi Kasus**\n",
        "\n",
        "\n",
        "<p style=\"text-align: justify;\">Sebuah perusahaan besar memiliki ribuan karyawan dengan struktur penggajian yang kompleks, yang mencakup gaji pokok, bonus berdasarkan kinerja, dan tunjangan tambahan. Setiap bulan, perusahaan harus menghitung total bonus seluruh karyawan untuk keperluan pelaporan keuangan. Proses ini menjadi tantangan besar karena ukuran dataset yang besar dan kebutuhan akan efisiensi waktu. Oleh karena itu, perusahaan membutuhkan algoritma yang tidak hanya memberikan hasil yang akurat tetapi juga memiliki waktu eksekusi yang rendah untuk meminimalkan gangguan pada operasional lainnya. </p>\n",
        "\n",
        "<p style=\"text-align: justify;\">Untuk menyelesaikan masalah ini, perusahaan ingin membandingkan dua pendekatan algoritmik, yaitu iteratif dan rekursif. Pendekatan iteratif dikenal lebih efisien dalam hal waktu eksekusi untuk dataset besar, sementara pendekatan rekursif sering kali dianggap lebih sederhana dalam implementasi tetapi bisa menjadi kurang efisien karena overhead tambahan. Dengan menganalisis kedua metode ini, perusahaan berharap dapat menentukan pendekatan mana yang paling sesuai untuk sistem penggajian mereka.</p>\n",
        "\n",
        "<p style=\"text-align: justify;\">Pentingnya studi ini terletak pada optimasi sistem penggajian perusahaan. Dengan algoritma yang lebih efisien, perusahaan dapat menghemat waktu dan sumber daya komputasi, terutama dengan meningkatnya jumlah karyawan. Selain itu, hasil dari studi ini akan membantu perusahaan membuat keputusan berbasis data untuk memilih algoritma yang paling cocok untuk kebutuhan mereka, baik dalam pengembangan sistem otomatisasi penggajian maupun dalam pelaporan keuangan berbasis data besar. Studi ini juga memberikan wawasan tentang pentingnya memilih algoritma yang optimal untuk memastikan keberlanjutan operasional dan efisiensi perusahaan di era digital.</p>"
      ]
    },
    {
      "cell_type": "code",
      "execution_count": 20,
      "metadata": {
        "id": "n6XcrVScp9Sc"
      },
      "outputs": [],
      "source": [
        "# Iteratif\n",
        "def calculate_total_bonus_iterative(bonuses):\n",
        "    total = 0\n",
        "    for bonus in bonuses:\n",
        "        total += bonus\n",
        "    return total\n"
      ]
    },
    {
      "cell_type": "code",
      "execution_count": 21,
      "metadata": {
        "id": "J1KKZBDpp_iE"
      },
      "outputs": [],
      "source": [
        "# Rekursif\n",
        "def calculate_total_bonus_recursive(bonuses):\n",
        "    if len(bonuses) == 0:\n",
        "        return 0\n",
        "    return bonuses[0] + calculate_total_bonus_recursive(bonuses[1:])\n"
      ]
    },
    {
      "cell_type": "markdown",
      "metadata": {
        "id": "iaw-iExAozed"
      },
      "source": [
        "**Deskripsi Dua Algoritma**\n",
        "\n",
        "- <p style=\"text-align: justify;\">Algoritma iteratif adalah pendekatan pemrograman yang menggunakan struktur kendali seperti loop (for atau while) untuk menjalankan tugas yang berulang secara berurutan. Dalam konteks perhitungan total bonus karyawan, algoritma iteratif bekerja dengan cara menjumlahkan setiap elemen dalam daftar Bonus satu per satu. Proses ini dimulai dari elemen pertama hingga elemen terakhir, dengan variabel yang diperbarui pada setiap iterasi.</p>\n",
        "\n",
        "- <p style=\"text-align: justify;\"> Algoritma rekursif adalah pendekatan pemrograman yang memecah masalah menjadi submasalah yang lebih kecil, kemudian memanggil dirinya sendiri hingga mencapai kondisi dasar (base case). Dalam perhitungan total bonus karyawan, algoritma rekursif bekerja dengan cara menjumlahkan elemen pertama dalam daftar Bonus dengan hasil pemanggilan rekursif pada sisa daftar (daftar tanpa elemen pertama).</p>"
      ]
    },
    {
      "cell_type": "code",
      "execution_count": 19,
      "metadata": {
        "colab": {
          "base_uri": "https://localhost:8080/"
        },
        "id": "QzxcNDF1hQoT",
        "outputId": "fc8add56-3342-4900-d36a-e18e5e7a2a18"
      },
      "outputs": [
        {
          "name": "stdout",
          "output_type": "stream",
          "text": [
            "Running Iterative Method:\n",
            "Iterative Total Bonus: 289592\n",
            "Iterative Execution Time: 0.0003528594970703125 seconds\n",
            "\n",
            "Running Recursive Method:\n",
            "Recursive Total Bonus: 289592\n",
            "Recursive Execution Time: 5.507469177246094e-05 seconds\n"
          ]
        }
      ],
      "source": [
        "import pandas as pd\n",
        "import time\n",
        "import matplotlib.pyplot as plt\n",
        "\n",
        "# Iterative function\n",
        "def calculate_bonus_iterative(employee_data):\n",
        "    total_bonus = 0\n",
        "    for bonus in employee_data[\"Bonus\"]:\n",
        "        total_bonus += bonus\n",
        "    return total_bonus\n",
        "\n",
        "# Recursive function\n",
        "def calculate_bonus_recursive(bonus_list):\n",
        "    if len(bonus_list) == 0:\n",
        "        return 0\n",
        "    return bonus_list[0] + calculate_bonus_recursive(bonus_list[1:])\n",
        "\n",
        "# Run tests for iterative\n",
        "def run_iterative(data_path):\n",
        "    df = pd.read_excel(data_path)\n",
        "    start_time = time.time()\n",
        "    total_bonus = calculate_bonus_iterative(df)\n",
        "    end_time = time.time()\n",
        "    print(f\"Iterative Total Bonus: {total_bonus}\")\n",
        "    print(f\"Iterative Execution Time: {end_time - start_time} seconds\")\n",
        "\n",
        "# Run tests for recursive\n",
        "def run_recursive(data_path):\n",
        "    df = pd.read_excel(data_path)\n",
        "    bonus_list = df[\"Bonus\"].tolist()\n",
        "    start_time = time.time()\n",
        "    total_bonus = calculate_bonus_recursive(bonus_list)\n",
        "    end_time = time.time()\n",
        "    print(f\"Recursive Total Bonus: {total_bonus}\")\n",
        "    print(f\"Recursive Execution Time: {end_time - start_time} seconds\")\n",
        "\n",
        "# Compare both methods\n",
        "def compare_methods(data_path):\n",
        "    print(\"Running Iterative Method:\")\n",
        "    run_iterative(data_path)\n",
        "    print(\"\\nRunning Recursive Method:\")\n",
        "    run_recursive(data_path)\n",
        "\n",
        "# Path to the dataset\n",
        "data_path = \"employee_bonus_data.xlsx\"\n",
        "\n",
        "# Compare methods\n",
        "compare_methods(data_path)\n"
      ]
    },
    {
      "cell_type": "code",
      "execution_count": 13,
      "metadata": {
        "colab": {
          "base_uri": "https://localhost:8080/",
          "height": 651
        },
        "id": "l-9XoCJyiw0O",
        "outputId": "03376d6b-2875-4e2e-ff52-a4e3d6d93cad"
      },
      "outputs": [
        {
          "name": "stdout",
          "output_type": "stream",
          "text": [
            "Iterative: Input Size 10, Total Bonus: 54416, Time: 4.5299530029296875e-06 seconds\n",
            "Recursive: Input Size 10, Total Bonus: 54416, Time: 1.5974044799804688e-05 seconds\n",
            "Iterative: Input Size 20, Total Bonus: 116974, Time: 4.291534423828125e-06 seconds\n",
            "Recursive: Input Size 20, Total Bonus: 116974, Time: 2.1219253540039062e-05 seconds\n",
            "Iterative: Input Size 30, Total Bonus: 163955, Time: 5.4836273193359375e-06 seconds\n",
            "Recursive: Input Size 30, Total Bonus: 163955, Time: 4.029273986816406e-05 seconds\n",
            "Iterative: Input Size 40, Total Bonus: 225223, Time: 6.198883056640625e-06 seconds\n",
            "Recursive: Input Size 40, Total Bonus: 225223, Time: 4.0531158447265625e-05 seconds\n",
            "Iterative: Input Size 50, Total Bonus: 289592, Time: 6.9141387939453125e-06 seconds\n",
            "Recursive: Input Size 50, Total Bonus: 289592, Time: 5.555152893066406e-05 seconds\n"
          ]
        },
        {
          "data": {
            "image/png": "[encoded data removed]",
            "text/plain": [
              "<Figure size 640x480 with 1 Axes>"
            ]
          },
          "metadata": {},
          "output_type": "display_data"
        }
      ],
      "source": [
        "# Combined Iterative and Recursive Function with Graph\n",
        "import pandas as pd\n",
        "import time\n",
        "import matplotlib.pyplot as plt\n",
        "\n",
        "# Load the dataset\n",
        "data_path = \"employee_bonus_data.xlsx\"\n",
        "df = pd.read_excel(data_path)\n",
        "\n",
        "# Iterative function\n",
        "def calculate_total_bonus_iterative(bonuses):\n",
        "    total = 0\n",
        "    for bonus in bonuses:\n",
        "        total += bonus\n",
        "    return total\n",
        "\n",
        "# Recursive function\n",
        "def calculate_total_bonus_recursive(bonuses):\n",
        "    if len(bonuses) == 0:\n",
        "        return 0\n",
        "    return bonuses[0] + calculate_total_bonus_recursive(bonuses[1:])\n",
        "\n",
        "# Measure runtime for both algorithms\n",
        "sizes = [10, 20, 30, 40, 50]\n",
        "iter_times = []\n",
        "rec_times = []\n",
        "\n",
        "for size in sizes:\n",
        "    bonuses = df[\"Bonus\"].head(size).tolist()\n",
        "\n",
        "    # Iterative\n",
        "    start_time = time.time()\n",
        "    total_bonus_iter = calculate_total_bonus_iterative(bonuses)\n",
        "    iter_times.append(time.time() - start_time)\n",
        "    print(f\"Iterative: Input Size {size}, Total Bonus: {total_bonus_iter}, Time: {iter_times[-1]} seconds\")\n",
        "\n",
        "    # Recursive\n",
        "    start_time = time.time()\n",
        "    total_bonus_rec = calculate_total_bonus_recursive(bonuses)\n",
        "    rec_times.append(time.time() - start_time)\n",
        "    print(f\"Recursive: Input Size {size}, Total Bonus: {total_bonus_rec}, Time: {rec_times[-1]} seconds\")\n",
        "\n",
        "# Plot the results for both algorithms\n",
        "plt.plot(sizes, iter_times, label=\"Iterative\", marker=\"o\", color=\"blue\")\n",
        "plt.plot(sizes, rec_times, label=\"Recursive\", marker=\"x\", color=\"red\")\n",
        "plt.xlabel(\"Input Size (Number of Employees)\")\n",
        "plt.ylabel(\"Running Time (Seconds)\")\n",
        "plt.title(\"Performance Comparison: Iterative vs Recursive\")\n",
        "plt.legend()\n",
        "plt.grid(True)\n",
        "plt.show()\n"
      ]
    },
    {
      "cell_type": "markdown",
      "metadata": {
        "id": "QgatkQPEr3VI"
      },
      "source": [
        "-  Waktu Eksekusi\n",
        "\n",
        "<p style=\"text-align: justify;\">Garis Biru (Iterative): Waktu eksekusi untuk algoritma iteratif tetap rendah dan stabil meskipun ukuran input meningkat. Hal ini menunjukkan efisiensi tinggi dari algoritma iteratif.\n",
        "Garis Merah (Recursive): Waktu eksekusi untuk algoritma rekursif meningkat secara signifikan seiring bertambahnya ukuran input. Hal ini mencerminkan inefisiensi akibat overhead tambahan dari operasi slicing dalam setiap panggilan rekursif. </p>\n",
        "\n",
        "\n",
        "- Performa terhadap Ukuran Input\n",
        "\n",
        "<p style=\"text-align: justify;\">Pada input kecil (10–20), perbedaan waktu eksekusi antara algoritma iteratif dan rekursif tidak terlalu besar.\n",
        "Pada input yang lebih besar (>30), algoritma rekursif menunjukkan peningkatan waktu eksekusi yang drastis, sedangkan algoritma iteratif tetap stabil.</p>\n",
        "\n",
        "**Kesimpulan**\n",
        "\n",
        "<p style=\"text-align: justify;\"><p style=\"text-align: justify;\">Algoritma Iteratif lebih baik dalam hal efisiensi waktu, terutama untuk ukuran input yang besar. Kompleksitas waktu algoritma iteratif adalah O(n), yang berarti waktu eksekusi bertambah secara linear seiring dengan ukuran input.\n",
        "Algoritma Rekursif kurang efisien karena kompleksitas waktu O(n²) akibat operasi slicing pada setiap pemanggilan fungsi. Selain itu, untuk dataset besar, algoritma ini juga memiliki risiko stack overflow.</p>\n",
        "\n",
        "**Rekomendasi**\n",
        "\n",
        "<p style=\"text-align: justify;\">Gunakan algoritma iteratif untuk kasus perhitungan seperti ini, terutama jika jumlah data karyawan besar, karena memberikan hasil yang sama dengan waktu eksekusi yang jauh lebih efisien. Algoritma rekursif hanya cocok untuk dataset kecil atau jika kompleksitas masalah memerlukan pendekatan rekursif (misalnya, pohon atau struktur data lainnya).</p>"
      ]
    },
    {
      "cell_type": "markdown",
      "metadata": {
        "id": "GsRAkHn3q4pz"
      },
      "source": [
        "<p style=\"text-align: justify;\">Kode di atas merupakan implementasi dua metode algoritma, yaitu iteratif dan rekursif, untuk menghitung total bonus karyawan berdasarkan dataset yang disimpan dalam file Excel employee_bonus_data.xlsx. Fungsi iteratif, calculate_bonus_iterative, bekerja dengan cara menggunakan struktur perulangan (for) untuk menjumlahkan semua elemen dalam kolom Bonus dari dataset. Fungsi ini memproses elemen satu per satu secara efisien, dengan kompleksitas waktu O(n). Fungsi rekursif, calculate_bonus_recursive, menggunakan pendekatan pemanggilan fungsi secara berulang. Setiap pemanggilan rekursif memproses elemen pertama dari daftar dan memanggil dirinya sendiri pada sublist yang lebih kecil, hingga mencapai daftar kosong sebagai base case. Pendekatan ini memiliki kompleksitas waktu O(n²) karena overhead dari operasi slicing. </p>\n",
        "\n",
        "<p style=\"text-align: justify;\">Fungsi run_iterative membaca dataset menggunakan pandas, menjalankan fungsi iteratif, dan mencatat waktu eksekusi menggunakan time.time(). Hasil berupa total bonus dan waktu eksekusi ditampilkan ke layar. Demikian pula, run_recursive membaca dataset, mengonversi kolom Bonus menjadi daftar, dan menjalankan fungsi rekursif dengan cara serupa.</p>\n",
        "\n",
        "<p style=\"text-align: justify;\">Fungsi utama compare_methods menjalankan kedua metode tersebut secara berurutan, memungkinkan perbandingan efisiensi antara metode iteratif dan rekursif. Hasilnya menunjukkan total bonus yang dihitung oleh kedua metode serta waktu eksekusi masing-masing. Dengan kode ini, pengguna dapat memahami bagaimana kedua metode bekerja dan mana yang lebih efisien untuk digunakan, terutama pada dataset besar. Metode iteratif lebih efisien dan direkomendasikan untuk kasus seperti ini, sedangkan metode rekursif memiliki keterbatasan dalam hal waktu eksekusi untuk ukuran input yang besar. </p>"
      ]
    }
  ],
  "metadata": {
    "colab": {
      "provenance": []
    },
    "kernelspec": {
      "display_name": "Python 3",
      "name": "python3"
    },
    "language_info": {
      "name": "python"
    }
  },
  "nbformat": 4,
  "nbformat_minor": 0
}
